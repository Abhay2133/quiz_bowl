{
 "cells": [
  {
   "cell_type": "code",
   "execution_count": 74,
   "metadata": {},
   "outputs": [],
   "source": [
    "import pandas as pd\n",
    "from datetime import  datetime"
   ]
  },
  {
   "cell_type": "markdown",
   "metadata": {},
   "source": [
    "### List of Dataframes to Filter"
   ]
  },
  {
   "cell_type": "code",
   "execution_count": 75,
   "metadata": {},
   "outputs": [],
   "source": [
    "filenames = [\n",
    "  ('Pre-Final Jingle.csv', 1),\n",
    "  ('Pre-Final Sports.csv',2),\n",
    "  ('Tagline.csv',3)\n",
    "]\n",
    "dfList = [(pd.read_csv(filename), roundId) for filename,roundId in filenames]"
   ]
  },
  {
   "cell_type": "markdown",
   "metadata": {},
   "source": [
    "### Function to replace answer the OPTION"
   ]
  },
  {
   "cell_type": "code",
   "execution_count": 76,
   "metadata": {},
   "outputs": [],
   "source": [
    "def replace_answer_with_option(row):\n",
    "    if row['answer'] == row['option1']:\n",
    "        return 'OPTION1'\n",
    "    elif row['answer'] == row['option2']:\n",
    "        return 'OPTION2'\n",
    "    elif row['answer'] == row['option3']:\n",
    "        return 'OPTION3'\n",
    "    elif row['answer'] == row['option4']:\n",
    "        return 'OPTION4'\n",
    "    \n",
    "    return row['answer']"
   ]
  },
  {
   "cell_type": "code",
   "execution_count": 77,
   "metadata": {},
   "outputs": [],
   "source": [
    "def filter_df(df:pd.DataFrame, roundId=0):\n",
    "  df['answer'] = df.apply(replace_answer_with_option, axis=1).str.upper().str.replace(' ','', regex=True)\n",
    "  df['difficulty']='EASY'\n",
    "  df['type']='TEXT'\n",
    "  df['link']=''\n",
    "  df['roundId']=roundId\n",
    "  if 'id' in df:\n",
    "    df = df.drop(columns=['id'])\n",
    "  return df"
   ]
  },
  {
   "cell_type": "code",
   "execution_count": 78,
   "metadata": {},
   "outputs": [],
   "source": [
    "dfList = [filter_df(df, roundId) for df, roundId in dfList]"
   ]
  },
  {
   "cell_type": "markdown",
   "metadata": {},
   "source": [
    "### Saving Dataframes"
   ]
  },
  {
   "cell_type": "code",
   "execution_count": 79,
   "metadata": {},
   "outputs": [],
   "source": [
    "# for (filename, roundId), df in zip(filenames,dfList):\n",
    "#   df.to_csv(f'updated_{filename}', index=False)\n",
    "questions = pd.concat(dfList, ignore_index=True)\n",
    "questions['updatedAt'] = datetime.now().isoformat()\n",
    "questions.to_csv('Pre-Final Questions.csv', index=False)"
   ]
  },
  {
   "cell_type": "code",
   "execution_count": null,
   "metadata": {},
   "outputs": [],
   "source": []
  }
 ],
 "metadata": {
  "kernelspec": {
   "display_name": "Python 3",
   "language": "python",
   "name": "python3"
  },
  "language_info": {
   "codemirror_mode": {
    "name": "ipython",
    "version": 3
   },
   "file_extension": ".py",
   "mimetype": "text/x-python",
   "name": "python",
   "nbconvert_exporter": "python",
   "pygments_lexer": "ipython3",
   "version": "3.13.0"
  }
 },
 "nbformat": 4,
 "nbformat_minor": 2
}
