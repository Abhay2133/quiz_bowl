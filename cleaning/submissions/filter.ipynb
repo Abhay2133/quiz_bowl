{
 "cells": [
  {
   "cell_type": "code",
   "execution_count": 11,
   "metadata": {},
   "outputs": [],
   "source": [
    "import pandas as pd"
   ]
  },
  {
   "cell_type": "code",
   "execution_count": 12,
   "metadata": {},
   "outputs": [
    {
     "data": {
      "text/html": [
       "<div>\n",
       "<style scoped>\n",
       "    .dataframe tbody tr th:only-of-type {\n",
       "        vertical-align: middle;\n",
       "    }\n",
       "\n",
       "    .dataframe tbody tr th {\n",
       "        vertical-align: top;\n",
       "    }\n",
       "\n",
       "    .dataframe thead th {\n",
       "        text-align: right;\n",
       "    }\n",
       "</style>\n",
       "<table border=\"1\" class=\"dataframe\">\n",
       "  <thead>\n",
       "    <tr style=\"text-align: right;\">\n",
       "      <th></th>\n",
       "      <th>id</th>\n",
       "      <th>quizId</th>\n",
       "      <th>teamId</th>\n",
       "      <th>userId</th>\n",
       "      <th>answers</th>\n",
       "      <th>submittedAt</th>\n",
       "      <th>createdAt</th>\n",
       "      <th>updatedAt</th>\n",
       "      <th>score</th>\n",
       "    </tr>\n",
       "  </thead>\n",
       "  <tbody>\n",
       "    <tr>\n",
       "      <th>0</th>\n",
       "      <td>8</td>\n",
       "      <td>4</td>\n",
       "      <td>86</td>\n",
       "      <td>136</td>\n",
       "      <td>{\"5\":{\"1\":3,\"2\":1,\"3\":3,\"4\":2,\"5\":4,\"6\":1,\"7\":...</td>\n",
       "      <td>2024-11-23 07:05:16.857</td>\n",
       "      <td>2024-11-23 07:05:16.857</td>\n",
       "      <td>2024-11-23 07:05:16.857</td>\n",
       "      <td>57.25</td>\n",
       "    </tr>\n",
       "    <tr>\n",
       "      <th>1</th>\n",
       "      <td>9</td>\n",
       "      <td>4</td>\n",
       "      <td>71</td>\n",
       "      <td>83</td>\n",
       "      <td>{\"5\":{\"1\":1,\"2\":1,\"3\":3,\"4\":2,\"5\":2,\"6\":4,\"7\":...</td>\n",
       "      <td>2024-11-23 07:18:35.82</td>\n",
       "      <td>2024-11-23 07:18:35.82</td>\n",
       "      <td>2024-11-23 07:18:35.82</td>\n",
       "      <td>67.25</td>\n",
       "    </tr>\n",
       "    <tr>\n",
       "      <th>2</th>\n",
       "      <td>10</td>\n",
       "      <td>4</td>\n",
       "      <td>79</td>\n",
       "      <td>91</td>\n",
       "      <td>{\"5\":{\"1\":3,\"2\":1,\"3\":3,\"4\":4,\"5\":1,\"6\":3,\"7\":...</td>\n",
       "      <td>2024-11-23 07:19:22.057</td>\n",
       "      <td>2024-11-23 07:19:22.057</td>\n",
       "      <td>2024-11-23 07:19:22.057</td>\n",
       "      <td>42.25</td>\n",
       "    </tr>\n",
       "    <tr>\n",
       "      <th>3</th>\n",
       "      <td>11</td>\n",
       "      <td>4</td>\n",
       "      <td>78</td>\n",
       "      <td>128</td>\n",
       "      <td>{\"5\":{\"1\":3,\"2\":1,\"3\":3,\"4\":2,\"5\":4,\"6\":4,\"7\":...</td>\n",
       "      <td>2024-11-23 07:19:52.977</td>\n",
       "      <td>2024-11-23 07:19:52.977</td>\n",
       "      <td>2024-11-23 07:19:52.977</td>\n",
       "      <td>46.00</td>\n",
       "    </tr>\n",
       "    <tr>\n",
       "      <th>4</th>\n",
       "      <td>12</td>\n",
       "      <td>4</td>\n",
       "      <td>69</td>\n",
       "      <td>119</td>\n",
       "      <td>{\"5\":{\"1\":2,\"2\":1,\"3\":3,\"4\":2,\"5\":4,\"6\":3,\"7\":...</td>\n",
       "      <td>2024-11-23 07:20:02.813</td>\n",
       "      <td>2024-11-23 07:20:02.813</td>\n",
       "      <td>2024-11-23 07:20:02.813</td>\n",
       "      <td>58.50</td>\n",
       "    </tr>\n",
       "  </tbody>\n",
       "</table>\n",
       "</div>"
      ],
      "text/plain": [
       "   id  quizId  teamId  userId  \\\n",
       "0   8       4      86     136   \n",
       "1   9       4      71      83   \n",
       "2  10       4      79      91   \n",
       "3  11       4      78     128   \n",
       "4  12       4      69     119   \n",
       "\n",
       "                                             answers              submittedAt  \\\n",
       "0  {\"5\":{\"1\":3,\"2\":1,\"3\":3,\"4\":2,\"5\":4,\"6\":1,\"7\":...  2024-11-23 07:05:16.857   \n",
       "1  {\"5\":{\"1\":1,\"2\":1,\"3\":3,\"4\":2,\"5\":2,\"6\":4,\"7\":...   2024-11-23 07:18:35.82   \n",
       "2  {\"5\":{\"1\":3,\"2\":1,\"3\":3,\"4\":4,\"5\":1,\"6\":3,\"7\":...  2024-11-23 07:19:22.057   \n",
       "3  {\"5\":{\"1\":3,\"2\":1,\"3\":3,\"4\":2,\"5\":4,\"6\":4,\"7\":...  2024-11-23 07:19:52.977   \n",
       "4  {\"5\":{\"1\":2,\"2\":1,\"3\":3,\"4\":2,\"5\":4,\"6\":3,\"7\":...  2024-11-23 07:20:02.813   \n",
       "\n",
       "                 createdAt                updatedAt  score  \n",
       "0  2024-11-23 07:05:16.857  2024-11-23 07:05:16.857  57.25  \n",
       "1   2024-11-23 07:18:35.82   2024-11-23 07:18:35.82  67.25  \n",
       "2  2024-11-23 07:19:22.057  2024-11-23 07:19:22.057  42.25  \n",
       "3  2024-11-23 07:19:52.977  2024-11-23 07:19:52.977  46.00  \n",
       "4  2024-11-23 07:20:02.813  2024-11-23 07:20:02.813  58.50  "
      ]
     },
     "execution_count": 12,
     "metadata": {},
     "output_type": "execute_result"
    }
   ],
   "source": [
    "df = pd.read_csv('Submission_rows.csv')\n",
    "df.head()"
   ]
  },
  {
   "cell_type": "code",
   "execution_count": 13,
   "metadata": {},
   "outputs": [],
   "source": [
    "newdf = df.drop_duplicates(subset='userId', keep='first')\n",
    "newdf.shape\n",
    "newdf = newdf.sort_values(by='score', ascending=False, inplace=False)"
   ]
  },
  {
   "cell_type": "code",
   "execution_count": 15,
   "metadata": {},
   "outputs": [],
   "source": [
    "newdf.to_csv('Submission.csv', index=False)"
   ]
  }
 ],
 "metadata": {
  "kernelspec": {
   "display_name": "Python 3",
   "language": "python",
   "name": "python3"
  },
  "language_info": {
   "codemirror_mode": {
    "name": "ipython",
    "version": 3
   },
   "file_extension": ".py",
   "mimetype": "text/x-python",
   "name": "python",
   "nbconvert_exporter": "python",
   "pygments_lexer": "ipython3",
   "version": "3.13.0"
  }
 },
 "nbformat": 4,
 "nbformat_minor": 2
}
