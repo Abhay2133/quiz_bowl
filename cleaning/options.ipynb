{
 "cells": [
  {
   "cell_type": "code",
   "execution_count": 25,
   "metadata": {},
   "outputs": [],
   "source": [
    "from datetime import datetime\n",
    "import pandas as pd"
   ]
  },
  {
   "cell_type": "code",
   "execution_count": 26,
   "metadata": {},
   "outputs": [],
   "source": [
    "filename = 'logo.csv'\n",
    "# filename = input(\"filename : \")"
   ]
  },
  {
   "cell_type": "code",
   "execution_count": 27,
   "metadata": {},
   "outputs": [
    {
     "data": {
      "text/html": [
       "<div>\n",
       "<style scoped>\n",
       "    .dataframe tbody tr th:only-of-type {\n",
       "        vertical-align: middle;\n",
       "    }\n",
       "\n",
       "    .dataframe tbody tr th {\n",
       "        vertical-align: top;\n",
       "    }\n",
       "\n",
       "    .dataframe thead th {\n",
       "        text-align: right;\n",
       "    }\n",
       "</style>\n",
       "<table border=\"1\" class=\"dataframe\">\n",
       "  <thead>\n",
       "    <tr style=\"text-align: right;\">\n",
       "      <th></th>\n",
       "      <th>question</th>\n",
       "      <th>option1</th>\n",
       "      <th>option2</th>\n",
       "      <th>option3</th>\n",
       "      <th>option4</th>\n",
       "      <th>answer</th>\n",
       "      <th>Unnamed: 6</th>\n",
       "    </tr>\n",
       "  </thead>\n",
       "  <tbody>\n",
       "    <tr>\n",
       "      <th>0</th>\n",
       "      <td>This logo belongs to</td>\n",
       "      <td>Wendy's</td>\n",
       "      <td>Taco Bell</td>\n",
       "      <td>McDonald's</td>\n",
       "      <td>Dominos</td>\n",
       "      <td>option c</td>\n",
       "      <td>NaN</td>\n",
       "    </tr>\n",
       "    <tr>\n",
       "      <th>1</th>\n",
       "      <td>This logo belongs to</td>\n",
       "      <td>Chanel</td>\n",
       "      <td>Cartoon Network</td>\n",
       "      <td>Chevrolet</td>\n",
       "      <td>Christian Dior</td>\n",
       "      <td>Option a</td>\n",
       "      <td>NaN</td>\n",
       "    </tr>\n",
       "    <tr>\n",
       "      <th>2</th>\n",
       "      <td>This logo belongs to</td>\n",
       "      <td>Crown Plaza Hotel</td>\n",
       "      <td>Thomas Crown Affair movie</td>\n",
       "      <td>Crown Casino</td>\n",
       "      <td>Rolex</td>\n",
       "      <td>option d</td>\n",
       "      <td>NaN</td>\n",
       "    </tr>\n",
       "    <tr>\n",
       "      <th>3</th>\n",
       "      <td>Can you recognize this logo?</td>\n",
       "      <td>Royal Back Of Scotland</td>\n",
       "      <td>HSBC</td>\n",
       "      <td>The Common Wealth Games 2010</td>\n",
       "      <td>Arrow Van Heusen</td>\n",
       "      <td>option b</td>\n",
       "      <td>NaN</td>\n",
       "    </tr>\n",
       "    <tr>\n",
       "      <th>4</th>\n",
       "      <td>Can you recognize this logo?</td>\n",
       "      <td>United News Of India</td>\n",
       "      <td>Unilever</td>\n",
       "      <td>Uni Klinger Limited</td>\n",
       "      <td>Uni Style Image</td>\n",
       "      <td>option b</td>\n",
       "      <td>NaN</td>\n",
       "    </tr>\n",
       "  </tbody>\n",
       "</table>\n",
       "</div>"
      ],
      "text/plain": [
       "                       question                  option1  \\\n",
       "0          This logo belongs to                  Wendy's   \n",
       "1         This logo belongs to                    Chanel   \n",
       "2         This logo belongs to         Crown Plaza Hotel   \n",
       "3  Can you recognize this logo?  Royal Back Of Scotland    \n",
       "4  Can you recognize this logo?    United News Of India    \n",
       "\n",
       "                     option2                       option3           option4  \\\n",
       "0                  Taco Bell                    McDonald's           Dominos   \n",
       "1           Cartoon Network                      Chevrolet    Christian Dior   \n",
       "2  Thomas Crown Affair movie                  Crown Casino             Rolex   \n",
       "3                       HSBC  The Common Wealth Games 2010  Arrow Van Heusen   \n",
       "4                   Unilever           Uni Klinger Limited   Uni Style Image   \n",
       "\n",
       "      answer  Unnamed: 6  \n",
       "0   option c         NaN  \n",
       "1   Option a         NaN  \n",
       "2   option d         NaN  \n",
       "3  option b          NaN  \n",
       "4  option b          NaN  "
      ]
     },
     "execution_count": 27,
     "metadata": {},
     "output_type": "execute_result"
    }
   ],
   "source": [
    "# Load the data\n",
    "df = pd.read_csv(filename)\n",
    "df.head()"
   ]
  },
  {
   "cell_type": "code",
   "execution_count": 28,
   "metadata": {},
   "outputs": [
    {
     "data": {
      "text/plain": [
       "0    OPTIONC\n",
       "1    OPTIONA\n",
       "2    OPTIOND\n",
       "3    OPTIONB\n",
       "4    OPTIONB\n",
       "Name: answer, dtype: object"
      ]
     },
     "execution_count": 28,
     "metadata": {},
     "output_type": "execute_result"
    }
   ],
   "source": [
    "\n",
    "\n",
    "# Function to replace answer with OPTION label\n",
    "def replace_answer_with_option(row):\n",
    "    if row['answer'] == row['option1']:\n",
    "        return 'OPTION1'\n",
    "    elif row['answer'] == row['option2']:\n",
    "        return 'OPTION2'\n",
    "    elif row['answer'] == row['option3']:\n",
    "        return 'OPTION3'\n",
    "    elif row['answer'] == row['option4']:\n",
    "        return 'OPTION4'\n",
    "    \n",
    "    return row['answer']\n",
    "\n",
    "# Function to replace answer with OPTION label\n",
    "def replace_answer_with_option_n(row):\n",
    "    if row['answer'] == row['option1']:\n",
    "        return 'OPTION1'\n",
    "    elif row['answer'] == row['option2']:\n",
    "        return 'OPTION2'\n",
    "    elif row['answer'] == row['option3']:\n",
    "        return 'OPTION3'\n",
    "    elif row['answer'] == row['option4']:\n",
    "        return 'OPTION4'\n",
    "    \n",
    "    return row['answer']\n",
    "\n",
    "map = {\n",
    "    \"OPTIONA\":\"OPTION1\",\n",
    "    \"OPTIONB\":\"OPTION2\",\n",
    "    \"OPTIONC\":\"OPTION3\",\n",
    "    \"OPTIOND\":\"OPTION4\"\n",
    "}\n",
    "# Apply the function to each row\n",
    "df['answer'] = df.apply(replace_answer_with_option, axis=1).str.upper().str.replace(' ','', regex=True)\n",
    "df['answer'].head()"
   ]
  },
  {
   "cell_type": "code",
   "execution_count": 29,
   "metadata": {},
   "outputs": [],
   "source": [
    "df['answer'] = df['answer'].replace({\n",
    "    'OPTIONA': 'OPTION1',\n",
    "    'OPTIONB': 'OPTION2',\n",
    "    'OPTIONC': 'OPTION3',\n",
    "    'OPTIOND': 'OPTION4'\n",
    "})"
   ]
  },
  {
   "cell_type": "code",
   "execution_count": 30,
   "metadata": {},
   "outputs": [],
   "source": [
    "\n",
    "# df['answer'] = df.apply(lambda row, axis=1)\n",
    "# df['type'] = df['type'].replace('text', 'TEXT')\n",
    "df['type'] = \"TEXT\"#df['type'].replace('text', 'TEXT')\n",
    "df['difficulty'] = \"EASY\"\n",
    "df['roundId'] = 7\n",
    "df['updatedAt'] = datetime.now().isoformat()\n",
    "\n",
    "import os\n",
    "links = [ f\"https://quiz-bowl-2024.vercel.app/logo/{file}\" for file in os.listdir('logo')]\n",
    "\n",
    "df['link'] = links\n",
    "\n",
    "# Check if the column exists before dropping\n",
    "df = df.drop(columns=['Unnamed: 6'])\n",
    "\n",
    "# Save the modified DataFrame\n",
    "df.to_csv(f\"updated_{filename}\", index=False)\n"
   ]
  },
  {
   "cell_type": "code",
   "execution_count": null,
   "metadata": {},
   "outputs": [],
   "source": []
  }
 ],
 "metadata": {
  "kernelspec": {
   "display_name": "Python 3",
   "language": "python",
   "name": "python3"
  },
  "language_info": {
   "codemirror_mode": {
    "name": "ipython",
    "version": 3
   },
   "file_extension": ".py",
   "mimetype": "text/x-python",
   "name": "python",
   "nbconvert_exporter": "python",
   "pygments_lexer": "ipython3",
   "version": "3.13.0"
  }
 },
 "nbformat": 4,
 "nbformat_minor": 2
}
