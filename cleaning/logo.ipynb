{
 "cells": [
  {
   "cell_type": "code",
   "execution_count": null,
   "metadata": {},
   "outputs": [
    {
     "name": "stdout",
     "output_type": "stream",
     "text": [
      "Renamed: brand logo-1.png -> brand-logo-1.png\n",
      "Renamed: brand logo-10.png -> brand-logo-10.png\n",
      "Renamed: brand logo-11.png -> brand-logo-11.png\n",
      "Renamed: brand logo-12.png -> brand-logo-12.png\n",
      "Renamed: brand logo-13.jpg -> brand-logo-13.jpg\n",
      "Renamed: brand logo-14.png -> brand-logo-14.png\n",
      "Renamed: brand logo-15.jpg -> brand-logo-15.jpg\n",
      "Renamed: brand logo-16.png -> brand-logo-16.png\n",
      "Renamed: brand logo-17.jpg -> brand-logo-17.jpg\n",
      "Renamed: brand logo-18.jpg -> brand-logo-18.jpg\n",
      "Renamed: brand logo-19.jpg -> brand-logo-19.jpg\n",
      "Renamed: brand logo-2.png -> brand-logo-2.png\n",
      "Renamed: brand logo-20.jpg -> brand-logo-20.jpg\n",
      "Renamed: brand logo-21.jpg -> brand-logo-21.jpg\n",
      "Renamed: brand logo-22.jpg -> brand-logo-22.jpg\n",
      "Renamed: brand logo-23.jpg -> brand-logo-23.jpg\n",
      "Renamed: brand logo-24.jpg -> brand-logo-24.jpg\n",
      "Renamed: brand logo-25.jpg -> brand-logo-25.jpg\n",
      "Renamed: brand logo-26.jpg -> brand-logo-26.jpg\n",
      "Renamed: brand logo-27.png -> brand-logo-27.png\n",
      "Renamed: brand logo-28.png -> brand-logo-28.png\n",
      "Renamed: brand logo-29.jpg -> brand-logo-29.jpg\n",
      "Renamed: brand logo-3.jpg -> brand-logo-3.jpg\n",
      "Renamed: brand logo-30.jpg -> brand-logo-30.jpg\n",
      "Renamed: brand logo-31.png -> brand-logo-31.png\n",
      "Renamed: brand logo-32.png -> brand-logo-32.png\n",
      "Renamed: brand logo-33.jpg -> brand-logo-33.jpg\n",
      "Renamed: brand logo-34.jpg -> brand-logo-34.jpg\n",
      "Renamed: brand logo-35.jpg -> brand-logo-35.jpg\n",
      "Renamed: brand logo-36.png -> brand-logo-36.png\n",
      "Renamed: brand logo-4.png -> brand-logo-4.png\n",
      "Renamed: brand logo-5.jpg -> brand-logo-5.jpg\n",
      "Renamed: brand logo-6.png -> brand-logo-6.png\n",
      "Renamed: brand logo-7.jpg -> brand-logo-7.jpg\n",
      "Renamed: brand logo-8.png -> brand-logo-8.png\n",
      "Renamed: brand logo-9.jpg -> brand-logo-9.jpg\n"
     ]
    }
   ],
   "source": [
    "import os\n",
    "\n",
    "# Specify the directory\n",
    "directory = 'logo'\n",
    "\n",
    "# Iterate over each file in the directory\n",
    "for filename in os.listdir(directory):\n",
    "    # Generate the full path to the file\n",
    "    old_path = os.path.join(directory, filename)\n",
    "    \n",
    "    # Check if it's a file (not a directory)\n",
    "    if os.path.isfile(old_path):\n",
    "        # Replace spaces with hyphens\n",
    "        new_filename = filename.replace(' ', '-')\n",
    "        \n",
    "        # Generate the full path for the new filename\n",
    "        new_path = os.path.join(directory, new_filename)\n",
    "        \n",
    "        # Rename the file\n",
    "        os.rename(old_path, new_path)\n",
    "\n",
    "        print(f'Renamed: {filename} -> {new_filename}')\n"
   ]
  }
 ],
 "metadata": {
  "kernelspec": {
   "display_name": "Python 3",
   "language": "python",
   "name": "python3"
  },
  "language_info": {
   "codemirror_mode": {
    "name": "ipython",
    "version": 3
   },
   "file_extension": ".py",
   "mimetype": "text/x-python",
   "name": "python",
   "nbconvert_exporter": "python",
   "pygments_lexer": "ipython3",
   "version": "3.13.0"
  }
 },
 "nbformat": 4,
 "nbformat_minor": 2
}
