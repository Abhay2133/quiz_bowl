{
 "cells": [
  {
   "cell_type": "code",
   "execution_count": 38,
   "metadata": {},
   "outputs": [],
   "source": [
    "import pandas as pd\n",
    "from datetime import datetime "
   ]
  },
  {
   "cell_type": "code",
   "execution_count": 39,
   "metadata": {},
   "outputs": [],
   "source": [
    "filename = \"Participants.csv\""
   ]
  },
  {
   "cell_type": "code",
   "execution_count": 40,
   "metadata": {},
   "outputs": [
    {
     "data": {
      "text/html": [
       "<div>\n",
       "<style scoped>\n",
       "    .dataframe tbody tr th:only-of-type {\n",
       "        vertical-align: middle;\n",
       "    }\n",
       "\n",
       "    .dataframe tbody tr th {\n",
       "        vertical-align: top;\n",
       "    }\n",
       "\n",
       "    .dataframe thead th {\n",
       "        text-align: right;\n",
       "    }\n",
       "</style>\n",
       "<table border=\"1\" class=\"dataframe\">\n",
       "  <thead>\n",
       "    <tr style=\"text-align: right;\">\n",
       "      <th></th>\n",
       "      <th>name</th>\n",
       "      <th>user1</th>\n",
       "      <th>email1</th>\n",
       "      <th>user2</th>\n",
       "      <th>email2</th>\n",
       "      <th>updatedAt</th>\n",
       "    </tr>\n",
       "  </thead>\n",
       "  <tbody>\n",
       "    <tr>\n",
       "      <th>0</th>\n",
       "      <td>Team Insight</td>\n",
       "      <td>Khushi Goyal</td>\n",
       "      <td>khushigoyal2228@gmail.com</td>\n",
       "      <td>Harneet kaur</td>\n",
       "      <td>Harneetkaursimran2003@gmail.com</td>\n",
       "      <td>2024-11-23T00:01:03.570505</td>\n",
       "    </tr>\n",
       "    <tr>\n",
       "      <th>1</th>\n",
       "      <td>Mavericks</td>\n",
       "      <td>Muhammad zakwan shamim siddiqi</td>\n",
       "      <td>muhammadzak2004@gmail.com</td>\n",
       "      <td>Anmol Niroula</td>\n",
       "      <td>xqz213@gmail.com</td>\n",
       "      <td>2024-11-23T00:01:03.570505</td>\n",
       "    </tr>\n",
       "    <tr>\n",
       "      <th>2</th>\n",
       "      <td>Brainstorm</td>\n",
       "      <td>Ayush Madhwal</td>\n",
       "      <td>ayushmadhwal19@gmail.com</td>\n",
       "      <td>Ayush Aggarwal</td>\n",
       "      <td>ayushagarwal0105@gmail.com</td>\n",
       "      <td>2024-11-23T00:01:03.570505</td>\n",
       "    </tr>\n",
       "    <tr>\n",
       "      <th>3</th>\n",
       "      <td>The Intellectuals</td>\n",
       "      <td>Shivansh Aggarwal</td>\n",
       "      <td>shivanshggrwl@gmail.com</td>\n",
       "      <td>Mohit Sharma</td>\n",
       "      <td>mb8494488@gmail.com</td>\n",
       "      <td>2024-11-23T00:01:03.570505</td>\n",
       "    </tr>\n",
       "    <tr>\n",
       "      <th>4</th>\n",
       "      <td>Panthers</td>\n",
       "      <td>Harshit kumar Singhal</td>\n",
       "      <td>Harshitsinghal1406@gmail.com</td>\n",
       "      <td>Nitesh Pandey</td>\n",
       "      <td>Pandeynitesh217@gmail.com</td>\n",
       "      <td>2024-11-23T00:01:03.570505</td>\n",
       "    </tr>\n",
       "  </tbody>\n",
       "</table>\n",
       "</div>"
      ],
      "text/plain": [
       "                name                           user1  \\\n",
       "0       Team Insight                    Khushi Goyal   \n",
       "1          Mavericks  Muhammad zakwan shamim siddiqi   \n",
       "2         Brainstorm                   Ayush Madhwal   \n",
       "3  The Intellectuals               Shivansh Aggarwal   \n",
       "4           Panthers           Harshit kumar Singhal   \n",
       "\n",
       "                         email1           user2  \\\n",
       "0     khushigoyal2228@gmail.com    Harneet kaur   \n",
       "1     muhammadzak2004@gmail.com   Anmol Niroula   \n",
       "2      ayushmadhwal19@gmail.com  Ayush Aggarwal   \n",
       "3       shivanshggrwl@gmail.com    Mohit Sharma   \n",
       "4  Harshitsinghal1406@gmail.com   Nitesh Pandey   \n",
       "\n",
       "                            email2                   updatedAt  \n",
       "0  Harneetkaursimran2003@gmail.com  2024-11-23T00:01:03.570505  \n",
       "1                 xqz213@gmail.com  2024-11-23T00:01:03.570505  \n",
       "2       ayushagarwal0105@gmail.com  2024-11-23T00:01:03.570505  \n",
       "3              mb8494488@gmail.com  2024-11-23T00:01:03.570505  \n",
       "4        Pandeynitesh217@gmail.com  2024-11-23T00:01:03.570505  "
      ]
     },
     "execution_count": 40,
     "metadata": {},
     "output_type": "execute_result"
    }
   ],
   "source": [
    "df = pd.read_csv(filename)\n",
    "df['updatedAt'] = datetime.now().isoformat()\n",
    "\n",
    "df.head()"
   ]
  },
  {
   "cell_type": "code",
   "execution_count": 41,
   "metadata": {},
   "outputs": [],
   "source": [
    "df_name = df[['name','updatedAt']]\n",
    "df_name.to_csv('team_name.csv', index=False)\n"
   ]
  },
  {
   "cell_type": "code",
   "execution_count": 45,
   "metadata": {},
   "outputs": [],
   "source": [
    "\n",
    "# File 2: Extract 'user1' and 'email1' columns\n",
    "df_user1 = df[['user1', 'email1','updatedAt']]\n",
    "df_user1 = df_user1.rename(columns={'user1': 'name', 'email1':'email'})\n",
    "df_user1['teamId'] = range(64, 102)\n",
    "df_user1.to_csv('user1.csv', index=False)\n",
    "\n",
    "# File 3: Extract 'user2' and 'email2' columns\n",
    "df_user2 = df[['user2', 'email2','updatedAt']]\n",
    "df_user2 = df_user2.rename(columns={'user2': 'name', 'email2':'email'})\n",
    "df_user2['teamId'] = range(64, 102)\n",
    "df_user2.to_csv('user2.csv', index=False)\n"
   ]
  }
 ],
 "metadata": {
  "kernelspec": {
   "display_name": "Python 3",
   "language": "python",
   "name": "python3"
  },
  "language_info": {
   "codemirror_mode": {
    "name": "ipython",
    "version": 3
   },
   "file_extension": ".py",
   "mimetype": "text/x-python",
   "name": "python",
   "nbconvert_exporter": "python",
   "pygments_lexer": "ipython3",
   "version": "3.13.0"
  }
 },
 "nbformat": 4,
 "nbformat_minor": 2
}
