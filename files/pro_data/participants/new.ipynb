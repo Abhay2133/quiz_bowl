{
 "cells": [
  {
   "cell_type": "code",
   "execution_count": 10,
   "metadata": {},
   "outputs": [],
   "source": [
    "import pandas as pd"
   ]
  },
  {
   "cell_type": "code",
   "execution_count": 11,
   "metadata": {},
   "outputs": [
    {
     "data": {
      "text/html": [
       "<div>\n",
       "<style scoped>\n",
       "    .dataframe tbody tr th:only-of-type {\n",
       "        vertical-align: middle;\n",
       "    }\n",
       "\n",
       "    .dataframe tbody tr th {\n",
       "        vertical-align: top;\n",
       "    }\n",
       "\n",
       "    .dataframe thead th {\n",
       "        text-align: right;\n",
       "    }\n",
       "</style>\n",
       "<table border=\"1\" class=\"dataframe\">\n",
       "  <thead>\n",
       "    <tr style=\"text-align: right;\">\n",
       "      <th></th>\n",
       "      <th>name</th>\n",
       "      <th>user1</th>\n",
       "      <th>email1</th>\n",
       "      <th>user2</th>\n",
       "      <th>email2</th>\n",
       "      <th>Unnamed: 5</th>\n",
       "      <th>Unnamed: 6</th>\n",
       "      <th>Unnamed: 7</th>\n",
       "      <th>Unnamed: 8</th>\n",
       "      <th>Unnamed: 9</th>\n",
       "      <th>Unnamed: 10</th>\n",
       "    </tr>\n",
       "  </thead>\n",
       "  <tbody>\n",
       "    <tr>\n",
       "      <th>0</th>\n",
       "      <td>Team Insight</td>\n",
       "      <td>Khushi Goyal</td>\n",
       "      <td>khushigoyal2228@gmail.com</td>\n",
       "      <td>Harneet kaur</td>\n",
       "      <td>Harneetkaursimran2003@gmail.com</td>\n",
       "      <td>NaN</td>\n",
       "      <td>NaN</td>\n",
       "      <td>NaN</td>\n",
       "      <td>NaN</td>\n",
       "      <td>NaN</td>\n",
       "      <td>NaN</td>\n",
       "    </tr>\n",
       "    <tr>\n",
       "      <th>1</th>\n",
       "      <td>Mavericks</td>\n",
       "      <td>Muhammad zakwan shamim siddiqi</td>\n",
       "      <td>muhammadzak2004@gmail.com</td>\n",
       "      <td>Anmol Niroula</td>\n",
       "      <td>xqz213@gmail.com</td>\n",
       "      <td>NaN</td>\n",
       "      <td>NaN</td>\n",
       "      <td>NaN</td>\n",
       "      <td>NaN</td>\n",
       "      <td>NaN</td>\n",
       "      <td>NaN</td>\n",
       "    </tr>\n",
       "    <tr>\n",
       "      <th>2</th>\n",
       "      <td>Brainstorm</td>\n",
       "      <td>Ayush Madhwal</td>\n",
       "      <td>ayushmadhwal19@gmail.com</td>\n",
       "      <td>Ayush Aggarwal</td>\n",
       "      <td>ayushagarwal0105@gmail.com</td>\n",
       "      <td>NaN</td>\n",
       "      <td>NaN</td>\n",
       "      <td>NaN</td>\n",
       "      <td>NaN</td>\n",
       "      <td>NaN</td>\n",
       "      <td>NaN</td>\n",
       "    </tr>\n",
       "    <tr>\n",
       "      <th>3</th>\n",
       "      <td>The Intellectuals</td>\n",
       "      <td>Shivansh Aggarwal</td>\n",
       "      <td>shivanshggrwl@gmail.com</td>\n",
       "      <td>Mohit Sharma</td>\n",
       "      <td>mb8494488@gmail.com</td>\n",
       "      <td>NaN</td>\n",
       "      <td>NaN</td>\n",
       "      <td>NaN</td>\n",
       "      <td>NaN</td>\n",
       "      <td>NaN</td>\n",
       "      <td>NaN</td>\n",
       "    </tr>\n",
       "    <tr>\n",
       "      <th>4</th>\n",
       "      <td>Panthers</td>\n",
       "      <td>Harshit kumar Singhal</td>\n",
       "      <td>Harshitsinghal1406@gmail.com</td>\n",
       "      <td>Nitesh Pandey</td>\n",
       "      <td>Pandeynitesh217@gmail.com</td>\n",
       "      <td>NaN</td>\n",
       "      <td>NaN</td>\n",
       "      <td>NaN</td>\n",
       "      <td>NaN</td>\n",
       "      <td>NaN</td>\n",
       "      <td>NaN</td>\n",
       "    </tr>\n",
       "  </tbody>\n",
       "</table>\n",
       "</div>"
      ],
      "text/plain": [
       "                name                           user1  \\\n",
       "0       Team Insight                    Khushi Goyal   \n",
       "1          Mavericks  Muhammad zakwan shamim siddiqi   \n",
       "2         Brainstorm                   Ayush Madhwal   \n",
       "3  The Intellectuals               Shivansh Aggarwal   \n",
       "4           Panthers           Harshit kumar Singhal   \n",
       "\n",
       "                         email1           user2  \\\n",
       "0     khushigoyal2228@gmail.com    Harneet kaur   \n",
       "1     muhammadzak2004@gmail.com   Anmol Niroula   \n",
       "2      ayushmadhwal19@gmail.com  Ayush Aggarwal   \n",
       "3       shivanshggrwl@gmail.com    Mohit Sharma   \n",
       "4  Harshitsinghal1406@gmail.com   Nitesh Pandey   \n",
       "\n",
       "                            email2  Unnamed: 5  Unnamed: 6  Unnamed: 7  \\\n",
       "0  Harneetkaursimran2003@gmail.com         NaN         NaN         NaN   \n",
       "1                 xqz213@gmail.com         NaN         NaN         NaN   \n",
       "2       ayushagarwal0105@gmail.com         NaN         NaN         NaN   \n",
       "3              mb8494488@gmail.com         NaN         NaN         NaN   \n",
       "4        Pandeynitesh217@gmail.com         NaN         NaN         NaN   \n",
       "\n",
       "   Unnamed: 8  Unnamed: 9  Unnamed: 10  \n",
       "0         NaN         NaN          NaN  \n",
       "1         NaN         NaN          NaN  \n",
       "2         NaN         NaN          NaN  \n",
       "3         NaN         NaN          NaN  \n",
       "4         NaN         NaN          NaN  "
      ]
     },
     "execution_count": 11,
     "metadata": {},
     "output_type": "execute_result"
    }
   ],
   "source": [
    "user1 = pd.read_csv('user1.csv')\n",
    "user2 = pd.read_csv('user2.csv')\n",
    "\n",
    "newdata = pd.read_csv('new.csv')\n",
    "newdata.head()"
   ]
  },
  {
   "cell_type": "code",
   "execution_count": 12,
   "metadata": {},
   "outputs": [],
   "source": [
    "email1 = user1['email']\n",
    "email2 = user2['email']\n",
    "\n",
    "known_emails = set(user1['email']).union(set(user2['email']))\n",
    "new_emails = set(newdata['email1']).union(set(newdata['email2']))"
   ]
  },
  {
   "cell_type": "code",
   "execution_count": 13,
   "metadata": {},
   "outputs": [
    {
     "name": "stdout",
     "output_type": "stream",
     "text": [
      "{'kumararyan9230@gmail.com', nan, 'dharivaishali9@gmail.com', 'shristisimran1926@gmail.com'}\n"
     ]
    }
   ],
   "source": [
    "unique_new_emails = new_emails - known_emails\n",
    "print(unique_new_emails)"
   ]
  }
 ],
 "metadata": {
  "kernelspec": {
   "display_name": "Python 3",
   "language": "python",
   "name": "python3"
  },
  "language_info": {
   "codemirror_mode": {
    "name": "ipython",
    "version": 3
   },
   "file_extension": ".py",
   "mimetype": "text/x-python",
   "name": "python",
   "nbconvert_exporter": "python",
   "pygments_lexer": "ipython3",
   "version": "3.13.0"
  }
 },
 "nbformat": 4,
 "nbformat_minor": 2
}
