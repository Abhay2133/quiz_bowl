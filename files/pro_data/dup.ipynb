{
 "cells": [
  {
   "cell_type": "code",
   "execution_count": 2,
   "metadata": {},
   "outputs": [],
   "source": [
    "import pandas as pd"
   ]
  },
  {
   "cell_type": "code",
   "execution_count": 3,
   "metadata": {},
   "outputs": [],
   "source": [
    "df = pd.read_csv(\"users.csv\")"
   ]
  },
  {
   "cell_type": "code",
   "execution_count": 6,
   "metadata": {},
   "outputs": [
    {
     "name": "stdout",
     "output_type": "stream",
     "text": [
      "              name                     email  teamId                 updatedAt\n",
      "9    Saksham verma  sakshamver2005@gmail.com      30  2024-11-22T15:26:16.724Z\n",
      "16      Tanmay Pal   tanmaypal2354@gmail.com      37  2024-11-22T15:26:16.724Z\n",
      "17       Bibek Roy        broy7673@gmail.com      38  2024-11-22T15:26:16.724Z\n",
      "26   Saksham verma  sakshamver2005@gmail.com      47  2024-11-22T15:26:16.724Z\n",
      "29       Ruhi Gaur    ruhimuntazir@gmail.com      50  2024-11-22T15:26:16.724Z\n",
      "36       Zubi khan         zobbyk6@gmail.com      57  2024-11-22T15:26:16.724Z\n",
      "51   Vansh Chauhan    chauhsnvansh@gmail.com      30  2024-11-22T15:26:16.724Z\n",
      "58       Bibek Roy        broy7673@gmail.com      37  2024-11-22T15:26:16.724Z\n",
      "59      Tanmay pal   tanmaypal2354@gmail.com      38  2024-11-22T15:26:16.724Z\n",
      "68   Vansh Chauhan    chauhsnvansh@gmail.com      47  2024-11-22T15:26:16.724Z\n",
      "71  Shiwani kumari    ruhimuntazir@gmail.com      50  2024-11-22T15:26:16.724Z\n",
      "77       Zubi Khan         zobbyk6@gmail.com      56  2024-11-22T15:26:16.724Z\n"
     ]
    }
   ],
   "source": [
    "duplicates = df[df.duplicated(subset='email', keep=False)]\n",
    "\n",
    "# Display the duplicate rows\n",
    "print(duplicates)"
   ]
  },
  {
   "cell_type": "code",
   "execution_count": 10,
   "metadata": {},
   "outputs": [],
   "source": [
    "# Remove duplicate rows based on the 'email' column, keeping the first occurrence\n",
    "df_unique = df.drop_duplicates(subset='email', keep='first')\n",
    "\n",
    "# Save the result back to a CSV file if needed\n",
    "df_unique.to_csv('unique_users.csv', index=False)\n",
    "\n",
    "# Print the resulting DataFrame\n",
    "# print(df_unique)"
   ]
  }
 ],
 "metadata": {
  "kernelspec": {
   "display_name": "Python 3",
   "language": "python",
   "name": "python3"
  },
  "language_info": {
   "codemirror_mode": {
    "name": "ipython",
    "version": 3
   },
   "file_extension": ".py",
   "mimetype": "text/x-python",
   "name": "python",
   "nbconvert_exporter": "python",
   "pygments_lexer": "ipython3",
   "version": "3.13.0"
  }
 },
 "nbformat": 4,
 "nbformat_minor": 2
}
